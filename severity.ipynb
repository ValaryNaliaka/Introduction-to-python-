{
  "nbformat": 4,
  "nbformat_minor": 0,
  "metadata": {
    "colab": {
      "provenance": [],
      "toc_visible": true,
      "authorship_tag": "ABX9TyPGhdYB9rYrLTgGuNWW58Dm",
      "include_colab_link": true
    },
    "kernelspec": {
      "name": "python3",
      "display_name": "Python 3"
    },
    "language_info": {
      "name": "python"
    }
  },
  "cells": [
    {
      "cell_type": "markdown",
      "metadata": {
        "id": "view-in-github",
        "colab_type": "text"
      },
      "source": [
        "<a href=\"https://colab.research.google.com/github/ValaryNaliaka/Introduction-to-python-/blob/main/severity.ipynb\" target=\"_parent\"><img src=\"https://colab.research.google.com/assets/colab-badge.svg\" alt=\"Open In Colab\"/></a>"
      ]
    },
    {
      "cell_type": "code",
      "execution_count": 2,
      "metadata": {
        "colab": {
          "base_uri": "https://localhost:8080/",
          "height": 140
        },
        "id": "lT0tyy53q5py",
        "outputId": "3e008b0e-5662-4c75-c31f-5d865f1de059"
      },
      "outputs": [
        {
          "output_type": "error",
          "ename": "IndentationError",
          "evalue": "ignored",
          "traceback": [
            "\u001b[0;36m  File \u001b[0;32m\"<ipython-input-2-5d6028192573>\"\u001b[0;36m, line \u001b[0;32m2\u001b[0m\n\u001b[0;31m    accidents = pd.read_csv('accidentsBig.csv',no_col='Accident_no')\u001b[0m\n\u001b[0m    ^\u001b[0m\n\u001b[0;31mIndentationError\u001b[0m\u001b[0;31m:\u001b[0m unexpected indent\n"
          ]
        }
      ],
      "source": [
        " import numpy\n",
        "        accidents = pd.read_csv('accidentsBig.csv',no_col='Accident_no')\n",
        "        speed= pd.read_csv('speed.csv', error_bad_lines=False,nonlocal_col='Accident_no',warn_bad_lines=False)\n",
        "        alcohol = pd.read_csv('alcoholBig.csv', error_bad_lines=False, no_col='Accident_no', warn_bad_lines=False)\n",
        "        weather=pd.read_csv('weatherBig.cvs',error_bad_lines=False,no_col='Accident_no',warn_bad_lines=False)\n",
        "        print('accident_no')\n",
        "        print(\"accidents\")\n",
        "        print(\"no=\",accidents.no)\n",
        "        print(accidents.shape)\n",
        "        accidents.head()\n",
        "        print(\"speed\")\n",
        "        print(\"limit=\",speed.limit)\n",
        "        print(speed.shape)\n",
        "        speed.head()\n",
        "        print(\"alcohol\")\n",
        "        print(\"rate=\",alcohol.rate)\n",
        "        print(alcohol.shape)\n",
        "        alcohol.head()\n",
        "        print(\"weather\")\n",
        "        print(\"condition=\",weather.condition)\n",
        "        print(weather.shape)\n",
        "        weather.head()\n",
        "        print(\"severity=\")\n",
        "        accidents = accidents.join(accident_no, how='outer')\n",
        "        print(\"done joining\")\n",
        "        print(accidents.shape)\n",
        "        accidents['Date_time'] = accidents['Date'] +' '+ accidents['Time']\n",
        "        for col in accidents.columns:\n",
        "            accidents = (accidents[accidents[col]!=-1])\n",
        "            #print(col ,' ' , x)\\n\",\n",
        "        for col in speed.columns:\n",
        "            speed = (speed[speed[col]!=-1])\n",
        "        accidents['Date_time'] = pd.to_datetime(accidents.Date_time);\n",
        "        accidents.drop(['Date','Time'],axis =1 , inplace=True)\n",
        "        accidents.dropna(inplace=True)"
      ]
    }
  ]
}