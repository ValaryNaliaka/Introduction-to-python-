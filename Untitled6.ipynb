{
  "nbformat": 4,
  "nbformat_minor": 0,
  "metadata": {
    "colab": {
      "provenance": [],
      "authorship_tag": "ABX9TyM83+/u/JS1tImFfFdtlSOX",
      "include_colab_link": true
    },
    "kernelspec": {
      "name": "python3",
      "display_name": "Python 3"
    },
    "language_info": {
      "name": "python"
    }
  },
  "cells": [
    {
      "cell_type": "markdown",
      "metadata": {
        "id": "view-in-github",
        "colab_type": "text"
      },
      "source": [
        "<a href=\"https://colab.research.google.com/github/ValaryNaliaka/Introduction-to-python-/blob/main/Untitled6.ipynb\" target=\"_parent\"><img src=\"https://colab.research.google.com/assets/colab-badge.svg\" alt=\"Open In Colab\"/></a>"
      ]
    },
    {
      "cell_type": "code",
      "execution_count": 2,
      "metadata": {
        "colab": {
          "base_uri": "https://localhost:8080/",
          "height": 140
        },
        "id": "jyiio4hosWcd",
        "outputId": "da1d4e90-4d31-4737-c3c3-70eda5ca8568"
      },
      "outputs": [
        {
          "output_type": "error",
          "ename": "SyntaxError",
          "evalue": "ignored",
          "traceback": [
            "\u001b[0;36m  File \u001b[0;32m\"<ipython-input-2-615049a95575>\"\u001b[0;36m, line \u001b[0;32m7\u001b[0m\n\u001b[0;31m    data = pd.read_csv('\\Untitled6.ipynb\\to\\timestamp.csv')\u001b[0m\n\u001b[0m                                                          ^\u001b[0m\n\u001b[0;31mSyntaxError\u001b[0m\u001b[0;31m:\u001b[0m (unicode error) 'unicodeescape' codec can't decode bytes in position 0-1: truncated \\UXXXXXXXX escape\n"
          ]
        }
      ],
      "source": [
        "import pandas as pd\n",
        "from sklearn.model_selection import train_test_split\n",
        "from sklearn.ensemble import RandomForestClassifier\n",
        "from sklearn.metrics import accuracy_score, classification_report\n",
        "from sklearn.preprocessing import StandardScaler\n",
        "from sklearn.impute import SimpleImputer\n",
        "data = pd.read_csv('\\Untitled6.ipynb\\to\\timestamp.csv')\n",
        "data['timestamp'] = pd.to_datetime(data['timestamp'], format='%d-%b-%Y %H:%M:%S')\n",
        "plt.figure(figsize=(10,6))\n",
        "plt.plot(data['timestamp'], data['temperature'], label='Temperature',marker='0')\n",
        "plt.title('Temperature Over Time')\n",
        "plt.xlabel('Timestamp')\n",
        "plt.ylabel('Temperature')\n",
        "plt.legend()\n",
        "plt.show()\n",
        "X= data.drop('failure_label',axis=1)\n",
        "y=data['actual_label_column_name']\n",
        "X_train,X_test,y_train,y_test=train_test_split(X,y,test_size=0.2,random_state=42)\n",
        "imputer=SimpleImputer(strategy='mean')\n",
        "X_train_imputed = imputer.fit_transform(X_train)\n",
        "X_test_imputed = imputer.transform(X_test)\n",
        "scaler=StandardScaler()\n",
        "X_train_scaled = scaler.fit_transform(X_train_imputed)\n",
        "X_test_scaled = scaler.transform(X_test_imputed)\n",
        "model = RandomForestClassifier(n_estimators=100,random_state=42)\n",
        "model.fit(X_train_scaled,y_train)\n",
        "y_pred = model.predict(X_test_scaled)\n",
        "accuracy = accuracy_score(y_test,y_pred)\n",
        "print(f'Accuracy:{accuracy:.2f}')\n",
        "print('\\nClassification Report:')\n",
        "print(classification_report(y_test,y_pred))"
      ]
    }
  ]
}