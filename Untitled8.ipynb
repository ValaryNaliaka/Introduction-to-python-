{
  "nbformat": 4,
  "nbformat_minor": 0,
  "metadata": {
    "colab": {
      "provenance": [],
      "authorship_tag": "ABX9TyNtWBN74bgWiosdhn4uUV3s",
      "include_colab_link": true
    },
    "kernelspec": {
      "name": "python3",
      "display_name": "Python 3"
    },
    "language_info": {
      "name": "python"
    }
  },
  "cells": [
    {
      "cell_type": "markdown",
      "metadata": {
        "id": "view-in-github",
        "colab_type": "text"
      },
      "source": [
        "<a href=\"https://colab.research.google.com/github/ValaryNaliaka/Introduction-to-python-/blob/main/Untitled8.ipynb\" target=\"_parent\"><img src=\"https://colab.research.google.com/assets/colab-badge.svg\" alt=\"Open In Colab\"/></a>"
      ]
    },
    {
      "cell_type": "code",
      "execution_count": 1,
      "metadata": {
        "colab": {
          "base_uri": "https://localhost:8080/"
        },
        "id": "rstQNiWCTBXA",
        "outputId": "8c65c84a-dba6-48b4-d617-f2e2d0c5907d"
      },
      "outputs": [
        {
          "output_type": "stream",
          "name": "stdout",
          "text": [
            "The accuracy of the classifier is 97.96%.\n"
          ]
        }
      ],
      "source": [
        "from sklearn import datasets, svm\n",
        "from sklearn.model_selection import train_test_split\n",
        "\n",
        "# Load the digits dataset\n",
        "digits = datasets.load_digits()\n",
        "\n",
        "# Split the data into training and testing sets\n",
        "X_train, X_test, y_train, y_test = train_test_split(digits.data, digits.target, test_size=0.3, random_state=42)\n",
        "\n",
        "# Create an SVM classifier\n",
        "clf = svm.SVC(kernel='linear', C=1)\n",
        "\n",
        "# Train the classifier on the training data\n",
        "clf.fit(X_train, y_train)\n",
        "\n",
        "# Test the classifier on the testing data\n",
        "accuracy = clf.score(X_test, y_test)\n",
        "\n",
        "print(f'The accuracy of the classifier is {accuracy:.2%}.')\n"
      ]
    },
    {
      "cell_type": "code",
      "source": [
        "Alcohol:\n",
        "\n",
        "11.0\n",
        "\n",
        "14.8\n",
        "\n",
        "13.0\n",
        "\n",
        "0.8\n",
        "\n",
        "Malic Acid:\n",
        "\n",
        "0.74\n",
        "\n",
        "5.80\n",
        "\n",
        "2.34\n",
        "\n",
        "1.12\n",
        "\n",
        "Ash:\n",
        "\n",
        "1.36\n",
        "\n",
        "3.23\n",
        "\n",
        "2.36\n",
        "\n",
        "0.27\n",
        "\n",
        "Alcalinity of Ash:\n",
        "\n",
        "10.6\n",
        "\n",
        "30.0\n",
        "\n",
        "19.5\n",
        "\n",
        "3.3\n",
        "\n",
        "Magnesium:\n",
        "\n",
        "70.0\n",
        "\n",
        "162.0\n",
        "\n",
        "99.7\n",
        "\n",
        "14.3\n",
        "\n",
        "Total Phenols:\n",
        "\n",
        "0.98\n",
        "\n",
        "3.88\n",
        "\n",
        "2.29\n",
        "\n",
        "0.63\n",
        "\n",
        "Flavanoids:\n",
        "\n",
        "0.34\n",
        "\n",
        "5.08\n",
        "\n",
        "2.03\n",
        "\n",
        "1.00\n",
        "\n",
        "Nonflavanoid Phenols:\n",
        "\n",
        "0.13\n",
        "\n",
        "0.66\n",
        "\n",
        "0.36\n",
        "\n",
        "0.12\n",
        "\n",
        "Proanthocyanins:\n",
        "\n",
        "0.41\n",
        "\n",
        "3.58\n",
        "\n",
        "1.59\n",
        "\n",
        "0.57\n",
        "\n",
        "Colour Intensity:\n",
        "\n",
        "1.3\n",
        "\n",
        "13.0\n",
        "\n",
        "5.1\n",
        "\n",
        "2.3\n",
        "\n",
        "Hue:\n",
        "\n",
        "0.48\n",
        "\n",
        "1.71\n",
        "\n",
        "0.96\n",
        "\n",
        "0.23\n",
        "\n",
        "OD280/OD315 of diluted wines:\n",
        "\n",
        "1.27\n",
        "\n",
        "4.00\n",
        "\n",
        "2.61\n",
        "\n",
        "0.71\n",
        "\n",
        "Proline:\n",
        "\n",
        "278\n",
        "\n",
        "1680\n",
        "\n",
        "746\n",
        "\n",
        "315"
      ],
      "metadata": {
        "colab": {
          "base_uri": "https://localhost:8080/",
          "height": 140
        },
        "id": "CQPhM947U3Wa",
        "outputId": "87d766ea-5292-4f5e-e8ae-aee5152caadc"
      },
      "execution_count": 2,
      "outputs": [
        {
          "output_type": "error",
          "ename": "SyntaxError",
          "evalue": "invalid syntax (<ipython-input-2-9400341b6c38>, line 1)",
          "traceback": [
            "\u001b[0;36m  File \u001b[0;32m\"<ipython-input-2-9400341b6c38>\"\u001b[0;36m, line \u001b[0;32m1\u001b[0m\n\u001b[0;31m    Alcohol:\u001b[0m\n\u001b[0m            ^\u001b[0m\n\u001b[0;31mSyntaxError\u001b[0m\u001b[0;31m:\u001b[0m invalid syntax\n"
          ]
        }
      ]
    },
    {
      "cell_type": "code",
      "source": [
        "from sklearn import datasets, linear_model\n",
        "from sklearn.model_selection import train_test_split\n",
        "\n",
        "# Load the Wine dataset\n",
        "wine = datasets.load_wine()\n",
        "\n",
        "# Prepare the data\n",
        "X = [[11.0, 0.74, 1.36, 10.6, 70.0, 0.98, 0.34, 0.13, 0.41, 1.3, 0.48, 1.27, 278],\n",
        "     [14.8, 5.80, 3.23, 30.0, 162.0, 3.88, 5.08, 0.66, 3.58, 13.0, 1.71, 4.00, 1680],\n",
        "     [13.0, 2.34, 2.36, 19.5, 99.7, 2.29, 2.03, 0.36, 1.59, 5.1, 0.96, 2.61, 746],\n",
        "     [0.8, 1.12, 0.27, 3.3, 14.3, 0.63, 1.00, 0.12, 0.57, 2.3, 0.23, 0.71, 315]]\n",
        "y = [0, 1, 1, 2]\n",
        "\n",
        "# Split the data into training and testing sets\n",
        "X_train, X_test, y_train, y_test = train_test_split(X, y, test_size=0.3, random_state=42)\n",
        "\n",
        "# Create a logistic regression classifier\n",
        "clf = linear_model.LogisticRegression()\n",
        "\n",
        "# Train the classifier on the training data\n",
        "clf.fit(X_train, y_train)\n",
        "\n",
        "# Test the classifier on the testing data\n",
        "accuracy = clf.score(X_test, y_test)\n",
        "\n",
        "print(f'The accuracy of the classifier is {accuracy:.2%}.')"
      ],
      "metadata": {
        "colab": {
          "base_uri": "https://localhost:8080/"
        },
        "id": "g4gEbGtJVn4E",
        "outputId": "39295545-013e-4bc5-ef97-2ab3e5db77a0"
      },
      "execution_count": 3,
      "outputs": [
        {
          "output_type": "stream",
          "name": "stdout",
          "text": [
            "The accuracy of the classifier is 50.00%.\n"
          ]
        }
      ]
    },
    {
      "cell_type": "code",
      "source": [
        "# Import datasets, classifiers and performance metrics\n",
        "from sklearn import datasets, metrics, svm\n",
        "from sklearn.model_selection import train_test_split\n",
        "\n",
        "# Load the digits dataset\n",
        "digits = datasets.load_digits()\n",
        "\n",
        "# Flatten the images\n",
        "n_samples = len(digits.images)\n",
        "data = digits.images.reshape((n_samples, -1))\n",
        "\n",
        "# Split data into 50% train and 50% test subsets\n",
        "X_train, X_test, y_train, y_test = train_test_split(data, digits.target, test_size=0.5, shuffle=False)\n",
        "\n",
        "# Create a classifier: a support vector classifier\n",
        "clf = svm.SVC(gamma=0.001)\n",
        "\n",
        "# Learn the digits on the train subset\n",
        "clf.fit(X_train, y_train)\n",
        "\n",
        "# Predict the value of the digit on the test subset\n",
        "predicted = clf.predict(X_test)\n",
        "\n",
        "# Print the classification report\n",
        "print(metrics.classification_report(y_test, predicted))\n"
      ],
      "metadata": {
        "colab": {
          "base_uri": "https://localhost:8080/"
        },
        "id": "vMhU2mmlWfCt",
        "outputId": "7be773ff-92f9-44d8-b54f-563d752a75f1"
      },
      "execution_count": 4,
      "outputs": [
        {
          "output_type": "stream",
          "name": "stdout",
          "text": [
            "              precision    recall  f1-score   support\n",
            "\n",
            "           0       1.00      0.99      0.99        88\n",
            "           1       0.99      0.97      0.98        91\n",
            "           2       0.99      0.99      0.99        86\n",
            "           3       0.98      0.87      0.92        91\n",
            "           4       0.99      0.96      0.97        92\n",
            "           5       0.95      0.97      0.96        91\n",
            "           6       0.99      0.99      0.99        91\n",
            "           7       0.96      0.99      0.97        89\n",
            "           8       0.94      1.00      0.97        88\n",
            "           9       0.93      0.98      0.95        92\n",
            "\n",
            "    accuracy                           0.97       899\n",
            "   macro avg       0.97      0.97      0.97       899\n",
            "weighted avg       0.97      0.97      0.97       899\n",
            "\n"
          ]
        }
      ]
    },
    {
      "cell_type": "code",
      "source": [],
      "metadata": {
        "id": "DlqToFPRZ1Ir"
      },
      "execution_count": null,
      "outputs": []
    }
  ]
}